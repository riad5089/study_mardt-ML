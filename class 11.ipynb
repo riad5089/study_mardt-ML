{
 "cells": [
  {
   "cell_type": "code",
   "execution_count": 1,
   "id": "ed2b53f5",
   "metadata": {},
   "outputs": [],
   "source": [
    "import pickle as pk\n",
    "with open(\"LR_pickle\",\"rb\") as file:\n",
    "    model=pk.load(file)"
   ]
  },
  {
   "cell_type": "code",
   "execution_count": 2,
   "id": "a568a5a8",
   "metadata": {},
   "outputs": [
    {
     "data": {
      "text/plain": [
       "array([[55484.1675655]])"
      ]
     },
     "execution_count": 2,
     "metadata": {},
     "output_type": "execute_result"
    }
   ],
   "source": [
    "model.predict([[3200]])"
   ]
  },
  {
   "cell_type": "code",
   "execution_count": null,
   "id": "873d53f7",
   "metadata": {},
   "outputs": [],
   "source": []
  }
 ],
 "metadata": {
  "kernelspec": {
   "display_name": "Python 3 (ipykernel)",
   "language": "python",
   "name": "python3"
  },
  "language_info": {
   "codemirror_mode": {
    "name": "ipython",
    "version": 3
   },
   "file_extension": ".py",
   "mimetype": "text/x-python",
   "name": "python",
   "nbconvert_exporter": "python",
   "pygments_lexer": "ipython3",
   "version": "3.9.7"
  }
 },
 "nbformat": 4,
 "nbformat_minor": 5
}
